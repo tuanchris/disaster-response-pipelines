{
 "cells": [
  {
   "cell_type": "markdown",
   "metadata": {},
   "source": [
    "# ML Pipeline Preparation\n",
    "Follow the instructions below to help you create your ML pipeline.\n",
    "### 1. Import libraries and load data from database.\n",
    "- Import Python libraries\n",
    "- Load dataset from database with [`read_sql_table`](https://pandas.pydata.org/pandas-docs/stable/generated/pandas.read_sql_table.html)\n",
    "- Define feature and target variables X and Y"
   ]
  },
  {
   "cell_type": "code",
   "execution_count": 36,
   "metadata": {},
   "outputs": [
    {
     "name": "stdout",
     "output_type": "stream",
     "text": [
      "[nltk_data] Downloading package punkt to /root/nltk_data...\n",
      "[nltk_data]   Package punkt is already up-to-date!\n",
      "[nltk_data] Downloading package wordnet to /root/nltk_data...\n",
      "[nltk_data]   Package wordnet is already up-to-date!\n",
      "[nltk_data] Downloading package averaged_perceptron_tagger to\n",
      "[nltk_data]     /root/nltk_data...\n",
      "[nltk_data]   Package averaged_perceptron_tagger is already up-to-\n",
      "[nltk_data]       date!\n",
      "[nltk_data] Downloading package stopwords to /root/nltk_data...\n",
      "[nltk_data]   Package stopwords is already up-to-date!\n"
     ]
    }
   ],
   "source": [
    "# import libraries\n",
    "import nltk\n",
    "nltk.download(['punkt', 'wordnet', 'averaged_perceptron_tagger','stopwords'])\n",
    "import pandas as pd \n",
    "import numpy as np\n",
    "import re\n",
    "from sqlalchemy import create_engine\n",
    "from nltk.tokenize import word_tokenize\n",
    "from nltk.stem import WordNetLemmatizer\n",
    "from nltk.corpus import stopwords\n",
    "from sklearn.multioutput import MultiOutputClassifier\n",
    "from sklearn.pipeline import Pipeline\n",
    "from sklearn.feature_extraction.text import CountVectorizer, TfidfTransformer\n",
    "from sklearn.model_selection import train_test_split\n",
    "from sklearn.ensemble import RandomForestClassifier\n",
    "from sklearn.metrics import f1_score, classification_report, accuracy_score\n",
    "from scipy.stats.mstats import gmean"
   ]
  },
  {
   "cell_type": "code",
   "execution_count": 2,
   "metadata": {},
   "outputs": [],
   "source": [
    "# load data from database\n",
    "engine = create_engine('sqlite:///disaterrespond.db')\n",
    "df = pd.read_sql_table('Messages',engine)\n",
    "X = df['message']\n",
    "Y = df.drop(['message','genre','original','id'],axis=1)"
   ]
  },
  {
   "cell_type": "markdown",
   "metadata": {},
   "source": [
    "### 2. Write a tokenization function to process your text data"
   ]
  },
  {
   "cell_type": "code",
   "execution_count": 3,
   "metadata": {},
   "outputs": [],
   "source": [
    "def tokenize(text):\n",
    "    text = re.sub('[^a-zA-Z0-9]',' ',text)\n",
    "    words = word_tokenize(text)\n",
    "    words = [w for w in words if w not in stopwords.words('english')]\n",
    "    \n",
    "    lemmatizer = WordNetLemmatizer()\n",
    "    clean_words = []\n",
    "    for word in words: \n",
    "        clean_word = lemmatizer.lemmatize(word).lower().strip()\n",
    "        clean_words.append(clean_word)\n",
    "    return clean_words"
   ]
  },
  {
   "cell_type": "markdown",
   "metadata": {},
   "source": [
    "### 3. Build a machine learning pipeline\n",
    "This machine pipeline should take in the `message` column as input and output classification results on the other 36 categories in the dataset. You may find the [MultiOutputClassifier](http://scikit-learn.org/stable/modules/generated/sklearn.multioutput.MultiOutputClassifier.html) helpful for predicting multiple target variables."
   ]
  },
  {
   "cell_type": "code",
   "execution_count": 4,
   "metadata": {},
   "outputs": [],
   "source": [
    "pipeline = Pipeline([\n",
    "    ('vect',CountVectorizer(tokenizer=tokenize)),\n",
    "    ('clf',MultiOutputClassifier(RandomForestClassifier()))\n",
    "])"
   ]
  },
  {
   "cell_type": "markdown",
   "metadata": {},
   "source": [
    "### 4. Train pipeline\n",
    "- Split data into train and test sets\n",
    "- Train pipeline"
   ]
  },
  {
   "cell_type": "code",
   "execution_count": 5,
   "metadata": {},
   "outputs": [
    {
     "data": {
      "text/plain": [
       "Pipeline(memory=None,\n",
       "     steps=[('vect', CountVectorizer(analyzer='word', binary=False, decode_error='strict',\n",
       "        dtype=<class 'numpy.int64'>, encoding='utf-8', input='content',\n",
       "        lowercase=True, max_df=1.0, max_features=None, min_df=1,\n",
       "        ngram_range=(1, 1), preprocessor=None, stop_words=None,\n",
       "        strip...oob_score=False, random_state=None, verbose=0,\n",
       "            warm_start=False),\n",
       "           n_jobs=1))])"
      ]
     },
     "execution_count": 5,
     "metadata": {},
     "output_type": "execute_result"
    }
   ],
   "source": [
    "X_train, X_test, y_train, y_test = train_test_split(X,Y)\n",
    "pipeline.fit(X_train, y_train)"
   ]
  },
  {
   "cell_type": "markdown",
   "metadata": {},
   "source": [
    "### 5. Test your model\n",
    "Report the f1 score, precision and recall for each output category of the dataset. You can do this by iterating through the columns and calling sklearn's `classification_report` on each."
   ]
  },
  {
   "cell_type": "code",
   "execution_count": 9,
   "metadata": {},
   "outputs": [],
   "source": [
    "y_pred = pipeline.predict(X_test)"
   ]
  },
  {
   "cell_type": "code",
   "execution_count": 16,
   "metadata": {
    "scrolled": true
   },
   "outputs": [
    {
     "name": "stdout",
     "output_type": "stream",
     "text": [
      "------------------------------------------------------------ \n",
      " Category: related \n",
      "              precision    recall  f1-score   support\n",
      "\n",
      "          0       0.60      0.50      0.55      1518\n",
      "          1       0.86      0.90      0.88      4990\n",
      "          2       0.24      0.37      0.29        46\n",
      "\n",
      "avg / total       0.79      0.80      0.80      6554\n",
      "\n",
      "Accuracy of related 0.801495270064\n",
      "------------------------------------------------------------ \n",
      " Category: request \n",
      "              precision    recall  f1-score   support\n",
      "\n",
      "          0       0.90      0.97      0.94      5457\n",
      "          1       0.78      0.47      0.59      1097\n",
      "\n",
      "avg / total       0.88      0.89      0.88      6554\n",
      "\n",
      "Accuracy of request 0.889533109551\n",
      "------------------------------------------------------------ \n",
      " Category: offer \n",
      "              precision    recall  f1-score   support\n",
      "\n",
      "          0       1.00      1.00      1.00      6525\n",
      "          1       0.00      0.00      0.00        29\n",
      "\n",
      "avg / total       0.99      1.00      0.99      6554\n",
      "\n",
      "Accuracy of offer 0.995575221239\n",
      "------------------------------------------------------------ \n",
      " Category: aid_related \n",
      "              precision    recall  f1-score   support\n",
      "\n",
      "          0       0.75      0.85      0.80      3848\n",
      "          1       0.74      0.60      0.66      2706\n",
      "\n",
      "avg / total       0.74      0.74      0.74      6554\n",
      "\n",
      "Accuracy of aid_related 0.744583460482\n",
      "------------------------------------------------------------ \n",
      " Category: medical_help \n",
      "              precision    recall  f1-score   support\n",
      "\n",
      "          0       0.93      0.99      0.96      6018\n",
      "          1       0.64      0.15      0.24       536\n",
      "\n",
      "avg / total       0.91      0.92      0.90      6554\n",
      "\n",
      "Accuracy of medical_help 0.92340555386\n",
      "------------------------------------------------------------ \n",
      " Category: medical_products \n",
      "              precision    recall  f1-score   support\n",
      "\n",
      "          0       0.95      1.00      0.97      6192\n",
      "          1       0.71      0.10      0.18       362\n",
      "\n",
      "avg / total       0.94      0.95      0.93      6554\n",
      "\n",
      "Accuracy of medical_products 0.948123283491\n",
      "------------------------------------------------------------ \n",
      " Category: search_and_rescue \n",
      "              precision    recall  f1-score   support\n",
      "\n",
      "          0       0.98      1.00      0.99      6378\n",
      "          1       0.71      0.11      0.20       176\n",
      "\n",
      "avg / total       0.97      0.97      0.97      6554\n",
      "\n",
      "Accuracy of search_and_rescue 0.974977113213\n",
      "------------------------------------------------------------ \n",
      " Category: security \n",
      "              precision    recall  f1-score   support\n",
      "\n",
      "          0       0.98      1.00      0.99      6438\n",
      "          1       0.00      0.00      0.00       116\n",
      "\n",
      "avg / total       0.96      0.98      0.97      6554\n",
      "\n",
      "Accuracy of security 0.982148306378\n",
      "------------------------------------------------------------ \n",
      " Category: military \n",
      "              precision    recall  f1-score   support\n",
      "\n",
      "          0       0.97      1.00      0.98      6347\n",
      "          1       0.58      0.10      0.17       207\n",
      "\n",
      "avg / total       0.96      0.97      0.96      6554\n",
      "\n",
      "Accuracy of military 0.969331705829\n",
      "------------------------------------------------------------ \n",
      " Category: child_alone \n",
      "              precision    recall  f1-score   support\n",
      "\n",
      "          0       1.00      1.00      1.00      6554\n",
      "\n",
      "avg / total       1.00      1.00      1.00      6554\n",
      "\n",
      "Accuracy of child_alone 1.0\n",
      "------------------------------------------------------------ \n",
      " Category: water \n",
      "              precision    recall  f1-score   support\n",
      "\n",
      "          0       0.96      0.99      0.98      6143\n",
      "          1       0.83      0.39      0.53       411\n",
      "\n",
      "avg / total       0.95      0.96      0.95      6554\n",
      "\n",
      "Accuracy of water 0.956667683857\n",
      "------------------------------------------------------------ \n",
      " Category: food \n",
      "              precision    recall  f1-score   support\n",
      "\n",
      "          0       0.94      0.99      0.96      5809\n",
      "          1       0.83      0.51      0.63       745\n",
      "\n",
      "avg / total       0.93      0.93      0.93      6554\n",
      "\n",
      "Accuracy of food 0.932255111382\n",
      "------------------------------------------------------------ \n",
      " Category: shelter \n",
      "              precision    recall  f1-score   support\n",
      "\n",
      "          0       0.94      0.99      0.96      5995\n",
      "          1       0.72      0.27      0.39       559\n",
      "\n",
      "avg / total       0.92      0.93      0.91      6554\n",
      "\n",
      "Accuracy of shelter 0.928898382667\n",
      "------------------------------------------------------------ \n",
      " Category: clothing \n",
      "              precision    recall  f1-score   support\n",
      "\n",
      "          0       0.99      1.00      0.99      6452\n",
      "          1       0.82      0.09      0.16       102\n",
      "\n",
      "avg / total       0.98      0.99      0.98      6554\n",
      "\n",
      "Accuracy of clothing 0.985505035093\n",
      "------------------------------------------------------------ \n",
      " Category: money \n",
      "              precision    recall  f1-score   support\n",
      "\n",
      "          0       0.98      1.00      0.99      6404\n",
      "          1       0.45      0.03      0.06       150\n",
      "\n",
      "avg / total       0.97      0.98      0.97      6554\n",
      "\n",
      "Accuracy of money 0.976960634727\n",
      "------------------------------------------------------------ \n",
      " Category: missing_people \n",
      "              precision    recall  f1-score   support\n",
      "\n",
      "          0       0.99      1.00      0.99      6486\n",
      "          1       0.00      0.00      0.00        68\n",
      "\n",
      "avg / total       0.98      0.99      0.98      6554\n",
      "\n",
      "Accuracy of missing_people 0.989624656698\n",
      "------------------------------------------------------------ \n",
      " Category: refugees \n",
      "              precision    recall  f1-score   support\n",
      "\n",
      "          0       0.97      1.00      0.98      6338\n",
      "          1       0.36      0.02      0.04       216\n",
      "\n",
      "avg / total       0.95      0.97      0.95      6554\n",
      "\n",
      "Accuracy of refugees 0.966432712847\n",
      "------------------------------------------------------------ \n",
      " Category: death \n",
      "              precision    recall  f1-score   support\n",
      "\n",
      "          0       0.96      1.00      0.98      6259\n",
      "          1       0.76      0.18      0.29       295\n",
      "\n",
      "avg / total       0.95      0.96      0.95      6554\n",
      "\n",
      "Accuracy of death 0.960482148306\n",
      "------------------------------------------------------------ \n",
      " Category: other_aid \n",
      "              precision    recall  f1-score   support\n",
      "\n",
      "          0       0.87      0.99      0.92      5637\n",
      "          1       0.41      0.06      0.11       917\n",
      "\n",
      "avg / total       0.80      0.86      0.81      6554\n",
      "\n",
      "Accuracy of other_aid 0.856118400977\n",
      "------------------------------------------------------------ \n",
      " Category: infrastructure_related \n",
      "              precision    recall  f1-score   support\n",
      "\n",
      "          0       0.93      1.00      0.96      6102\n",
      "          1       0.50      0.02      0.04       452\n",
      "\n",
      "avg / total       0.90      0.93      0.90      6554\n",
      "\n",
      "Accuracy of infrastructure_related 0.931034482759\n",
      "------------------------------------------------------------ \n",
      " Category: transport \n",
      "              precision    recall  f1-score   support\n",
      "\n",
      "          0       0.96      1.00      0.98      6261\n",
      "          1       0.50      0.05      0.10       293\n",
      "\n",
      "avg / total       0.94      0.96      0.94      6554\n",
      "\n",
      "Accuracy of transport 0.955294476655\n",
      "------------------------------------------------------------ \n",
      " Category: buildings \n",
      "              precision    recall  f1-score   support\n",
      "\n",
      "          0       0.96      1.00      0.98      6236\n",
      "          1       0.78      0.14      0.23       318\n",
      "\n",
      "avg / total       0.95      0.96      0.94      6554\n",
      "\n",
      "Accuracy of buildings 0.956209948123\n",
      "------------------------------------------------------------ \n",
      " Category: electricity \n",
      "              precision    recall  f1-score   support\n",
      "\n",
      "          0       0.98      1.00      0.99      6412\n",
      "          1       0.92      0.08      0.14       142\n",
      "\n",
      "avg / total       0.98      0.98      0.97      6554\n",
      "\n",
      "Accuracy of electricity 0.979859627708\n",
      "------------------------------------------------------------ \n",
      " Category: tools \n",
      "              precision    recall  f1-score   support\n",
      "\n",
      "          0       0.99      1.00      1.00      6510\n",
      "          1       0.00      0.00      0.00        44\n",
      "\n",
      "avg / total       0.99      0.99      0.99      6554\n",
      "\n",
      "Accuracy of tools 0.993286542569\n",
      "------------------------------------------------------------ \n",
      " Category: hospitals \n",
      "              precision    recall  f1-score   support\n",
      "\n",
      "          0       0.99      1.00      0.99      6481\n",
      "          1       0.00      0.00      0.00        73\n",
      "\n",
      "avg / total       0.98      0.99      0.98      6554\n",
      "\n",
      "Accuracy of hospitals 0.98870918523\n",
      "------------------------------------------------------------ \n",
      " Category: shops \n",
      "              precision    recall  f1-score   support\n",
      "\n",
      "          0       0.99      1.00      1.00      6521\n",
      "          1       0.00      0.00      0.00        33\n",
      "\n",
      "avg / total       0.99      0.99      0.99      6554\n",
      "\n",
      "Accuracy of shops 0.994964906927\n",
      "------------------------------------------------------------ \n",
      " Category: aid_centers \n",
      "              precision    recall  f1-score   support\n",
      "\n",
      "          0       0.99      1.00      0.99      6475\n",
      "          1       0.50      0.01      0.02        79\n",
      "\n",
      "avg / total       0.98      0.99      0.98      6554\n",
      "\n",
      "Accuracy of aid_centers 0.987946292341\n",
      "------------------------------------------------------------ \n",
      " Category: other_infrastructure \n",
      "              precision    recall  f1-score   support\n",
      "\n",
      "          0       0.95      1.00      0.98      6247\n",
      "          1       0.31      0.02      0.03       307\n",
      "\n",
      "avg / total       0.92      0.95      0.93      6554\n",
      "\n",
      "Accuracy of other_infrastructure 0.952242905096\n",
      "------------------------------------------------------------ \n",
      " Category: weather_related \n",
      "              precision    recall  f1-score   support\n",
      "\n",
      "          0       0.87      0.95      0.91      4737\n",
      "          1       0.82      0.62      0.71      1817\n",
      "\n",
      "avg / total       0.86      0.86      0.85      6554\n",
      "\n",
      "Accuracy of weather_related 0.858559658224\n",
      "------------------------------------------------------------ \n",
      " Category: floods \n",
      "              precision    recall  f1-score   support\n",
      "\n",
      "          0       0.95      0.99      0.97      6039\n",
      "          1       0.84      0.37      0.51       515\n",
      "\n",
      "avg / total       0.94      0.94      0.93      6554\n",
      "\n",
      "Accuracy of floods 0.944766554776\n",
      "------------------------------------------------------------ \n",
      " Category: storm \n",
      "              precision    recall  f1-score   support\n",
      "\n",
      "          0       0.94      0.99      0.96      5938\n",
      "          1       0.75      0.43      0.54       616\n",
      "\n",
      "avg / total       0.92      0.93      0.92      6554\n",
      "\n",
      "Accuracy of storm 0.932712847116\n",
      "------------------------------------------------------------ \n",
      " Category: fire \n",
      "              precision    recall  f1-score   support\n",
      "\n",
      "          0       0.99      1.00      0.99      6468\n",
      "          1       0.83      0.06      0.11        86\n",
      "\n",
      "avg / total       0.99      0.99      0.98      6554\n",
      "\n",
      "Accuracy of fire 0.987488556607\n",
      "------------------------------------------------------------ \n",
      " Category: earthquake \n",
      "              precision    recall  f1-score   support\n",
      "\n",
      "          0       0.96      0.99      0.98      5939\n",
      "          1       0.87      0.65      0.74       615\n",
      "\n",
      "avg / total       0.96      0.96      0.95      6554\n",
      "\n",
      "Accuracy of earthquake 0.957430576747\n",
      "------------------------------------------------------------ \n",
      " Category: cold \n",
      "              precision    recall  f1-score   support\n",
      "\n",
      "          0       0.98      1.00      0.99      6415\n",
      "          1       0.93      0.10      0.18       139\n",
      "\n",
      "avg / total       0.98      0.98      0.97      6554\n",
      "\n",
      "Accuracy of cold 0.980775099176\n",
      "------------------------------------------------------------ \n",
      " Category: other_weather \n",
      "              precision    recall  f1-score   support\n",
      "\n",
      "          0       0.95      1.00      0.97      6230\n",
      "          1       0.50      0.08      0.13       324\n",
      "\n",
      "avg / total       0.93      0.95      0.93      6554\n",
      "\n",
      "Accuracy of other_weather 0.950564540738\n",
      "------------------------------------------------------------ \n",
      " Category: direct_report \n",
      "              precision    recall  f1-score   support\n",
      "\n",
      "          0       0.86      0.96      0.91      5312\n",
      "          1       0.69      0.34      0.45      1242\n",
      "\n",
      "avg / total       0.83      0.84      0.82      6554\n",
      "\n",
      "Accuracy of direct_report 0.844980164785\n"
     ]
    },
    {
     "name": "stderr",
     "output_type": "stream",
     "text": [
      "/opt/conda/lib/python3.6/site-packages/sklearn/metrics/classification.py:1135: UndefinedMetricWarning: Precision and F-score are ill-defined and being set to 0.0 in labels with no predicted samples.\n",
      "  'precision', 'predicted', average, warn_for)\n"
     ]
    }
   ],
   "source": [
    "category_names = Y.columns\n",
    "for i in range(len(category_names)):\n",
    "    print('-'*60,'\\n',\"Category:\", category_names[i],\"\\n\", classification_report(y_test.iloc[:, i].values, y_pred[:, i]))\n",
    "    print('Accuracy of',category_names[i], accuracy_score(y_test.iloc[:, i].values, y_pred[:,i]))\n"
   ]
  },
  {
   "cell_type": "code",
   "execution_count": 34,
   "metadata": {},
   "outputs": [],
   "source": [
    "def multioutput_f1score(y_true, y_pred): \n",
    "    scores = []\n",
    "    for i in range(Y.shape[1]): \n",
    "        score = f1_score(y_true.iloc[:,i], y_pred[:,i],average='weighted')\n",
    "        scores.append(score)\n",
    "    scores = np.asarray(scores)\n",
    "    scores = gmean(scores)\n",
    "    return scores"
   ]
  },
  {
   "cell_type": "code",
   "execution_count": 37,
   "metadata": {
    "scrolled": true
   },
   "outputs": [
    {
     "name": "stderr",
     "output_type": "stream",
     "text": [
      "/opt/conda/lib/python3.6/site-packages/sklearn/metrics/classification.py:1135: UndefinedMetricWarning: F-score is ill-defined and being set to 0.0 in labels with no predicted samples.\n",
      "  'precision', 'predicted', average, warn_for)\n"
     ]
    },
    {
     "data": {
      "text/plain": [
       "0.93034539820270123"
      ]
     },
     "execution_count": 37,
     "metadata": {},
     "output_type": "execute_result"
    }
   ],
   "source": [
    "multioutput_f1score(y_test,y_pred)"
   ]
  },
  {
   "cell_type": "code",
   "execution_count": null,
   "metadata": {},
   "outputs": [],
   "source": []
  },
  {
   "cell_type": "code",
   "execution_count": null,
   "metadata": {},
   "outputs": [],
   "source": [
    "for col in range(Y.shape[1]): \n",
    "    f1_score(y_test.iloc[:,0], y_pred.iloc[:,0])    "
   ]
  },
  {
   "cell_type": "code",
   "execution_count": 24,
   "metadata": {},
   "outputs": [
    {
     "data": {
      "text/plain": [
       "(6554,)"
      ]
     },
     "execution_count": 24,
     "metadata": {},
     "output_type": "execute_result"
    }
   ],
   "source": [
    "y_pred[:,0]"
   ]
  },
  {
   "cell_type": "code",
   "execution_count": 26,
   "metadata": {},
   "outputs": [
    {
     "data": {
      "text/plain": [
       "0.79602314771343141"
      ]
     },
     "execution_count": 26,
     "metadata": {},
     "output_type": "execute_result"
    }
   ],
   "source": [
    "f1_score(y_test.iloc[:,0], y_pred[:,0],average='weighted')  "
   ]
  },
  {
   "cell_type": "markdown",
   "metadata": {},
   "source": [
    "### 6. Improve your model\n",
    "Use grid search to find better parameters. "
   ]
  },
  {
   "cell_type": "code",
   "execution_count": null,
   "metadata": {},
   "outputs": [],
   "source": [
    "parameters = \n",
    "\n",
    "cv = "
   ]
  },
  {
   "cell_type": "markdown",
   "metadata": {},
   "source": [
    "### 7. Test your model\n",
    "Show the accuracy, precision, and recall of the tuned model.  \n",
    "\n",
    "Since this project focuses on code quality, process, and  pipelines, there is no minimum performance metric needed to pass. However, make sure to fine tune your models for accuracy, precision and recall to make your project stand out - especially for your portfolio!"
   ]
  },
  {
   "cell_type": "code",
   "execution_count": null,
   "metadata": {},
   "outputs": [],
   "source": []
  },
  {
   "cell_type": "markdown",
   "metadata": {},
   "source": [
    "### 8. Try improving your model further. Here are a few ideas:\n",
    "* try other machine learning algorithms\n",
    "* add other features besides the TF-IDF"
   ]
  },
  {
   "cell_type": "code",
   "execution_count": null,
   "metadata": {},
   "outputs": [],
   "source": []
  },
  {
   "cell_type": "markdown",
   "metadata": {},
   "source": [
    "### 9. Export your model as a pickle file"
   ]
  },
  {
   "cell_type": "code",
   "execution_count": null,
   "metadata": {},
   "outputs": [],
   "source": []
  },
  {
   "cell_type": "markdown",
   "metadata": {},
   "source": [
    "### 10. Use this notebook to complete `train.py`\n",
    "Use the template file attached in the Resources folder to write a script that runs the steps above to create a database and export a model based on a new dataset specified by the user."
   ]
  },
  {
   "cell_type": "code",
   "execution_count": null,
   "metadata": {},
   "outputs": [],
   "source": []
  }
 ],
 "metadata": {
  "kernelspec": {
   "display_name": "Python 3",
   "language": "python",
   "name": "python3"
  },
  "language_info": {
   "codemirror_mode": {
    "name": "ipython",
    "version": 3
   },
   "file_extension": ".py",
   "mimetype": "text/x-python",
   "name": "python",
   "nbconvert_exporter": "python",
   "pygments_lexer": "ipython3",
   "version": "3.6.3"
  }
 },
 "nbformat": 4,
 "nbformat_minor": 2
}
